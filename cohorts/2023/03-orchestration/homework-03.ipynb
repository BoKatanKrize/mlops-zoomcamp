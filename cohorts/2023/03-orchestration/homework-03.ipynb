{
 "cells": [
  {
   "cell_type": "markdown",
   "id": "1c726378",
   "metadata": {},
   "source": [
    "## Homework\n",
    "\n",
    "The goal of this homework is to familiarize users with workflow orchestration."
   ]
  },
  {
   "cell_type": "markdown",
   "id": "26e56430",
   "metadata": {},
   "source": [
    "### Q1. Human-readable name\n",
    "\n",
    "You’d like to give the first task, read_data a nicely formatted name. How can you specify a task name?\n",
    "\n",
    "*Answer* : ```@task(retries=3, retry_delay_seconds=2, name=\"Read taxi data\")```\n",
    "\n",
    "From [Prefect documentation](https://docs.prefect.io/2.10.13/concepts/tasks/):\n",
    "\n",
    "![title](images/homework-q1.png)"
   ]
  },
  {
   "cell_type": "markdown",
   "id": "0d50a79f",
   "metadata": {},
   "source": [
    "### Q2. Cron\n",
    "\n",
    "*Cron* is a common scheduling specification for workflows.\n",
    "\n",
    "Using the flow in ```orchestrate.py```, create a deployment. Schedule your deployment to run on the third day of every month at 9am UTC. What’s the cron schedule for that?\n",
    "\n",
    "*Answer* : ```0 9 3 * *```"
   ]
  },
  {
   "cell_type": "markdown",
   "id": "56ef3327",
   "metadata": {},
   "source": [
    "### Q3. RMSE\n",
    "\n",
    "[Download](https://www.nyc.gov/site/tlc/about/tlc-trip-record-data.page) the January 2023 Green Taxi data and use it for your training data. Download the February 2023 Green Taxi data and use it for your validation data.\n",
    "\n",
    "Make sure you upload the data to GitHub so it is available for your deployment.\n",
    "\n",
    "Create a custom flow run of your deployment from the UI. Choose Custom Run for the flow and enter the file path as a string on the JSON tab under Parameters.\n",
    "\n",
    "Make sure you have a worker running and polling the correct work pool.\n",
    "\n",
    "View the results in the UI.\n",
    "\n",
    "What’s the final RMSE to five decimal places?\n",
    "\n",
    "\n",
    "*Adding a worker:*\n",
    "\n",
    "```$ prefect worker start -p zoompool```\n",
    "\n",
    "*and then going to Prefect Cloud:*\n",
    "\n",
    "![title](images/homework-q2.png)\n",
    "\n",
    "*Answer*: ```RMSE : 5.19931```\n",
    "\n"
   ]
  },
  {
   "cell_type": "markdown",
   "id": "331c2240",
   "metadata": {},
   "source": [
    "### Q4. RMSE (Markdown Artifact)\n",
    "\n",
    "Download the February 2023 Green Taxi data and use it for your training data. Download the March 2023 Green Taxi data and use it for your validation data.\n",
    "\n",
    "Create a Prefect Markdown artifact that displays the RMSE for the validation data. Create a deployment and run it.\n",
    "\n",
    "What’s the RMSE in the artifact to two decimal places ?\n",
    "\n",
    "*Answer:* ```RMSE: 5.37```"
   ]
  },
  {
   "cell_type": "markdown",
   "id": "8ff66080",
   "metadata": {},
   "source": [
    "### Q5. Emails\n",
    "\n",
    "It’s often helpful to be notified when something with your dataflow doesn’t work as planned. Create an email notification for to use with your own Prefect server instance. In your virtual environment, install the prefect-email integration with\n",
    "\n",
    "```$ pip install prefect-email```\n",
    "\n",
    "Make sure you are connected to a running Prefect server instance through your Prefect profile. Register the new block with your server with\n",
    "\n",
    "``` $ prefect block register -m prefect_email ```\n",
    "\n",
    "Remember that a block is a Prefect class with a nice UI form interface. Block objects live on the server and can be created and accessed in your Python code.\n",
    "\n",
    "See the docs for how to authenticate by saving your email credentials to a block and note that you will need an App Password to send emails with Gmail and other services. Follow the instructions in the docs.\n",
    "\n",
    "Create and save an ```EmailServerCredentials``` notification block. Use the credentials block to send an email.\n",
    "\n",
    "Test the notification functionality by running a deployment.\n",
    "\n",
    "What is the name of the pre-built prefect-email task function?\n",
    "\n",
    "*Answer:* ```email_send_message```"
   ]
  },
  {
   "cell_type": "markdown",
   "id": "292e9870",
   "metadata": {},
   "source": [
    "### Q6. Prefect Cloud\n",
    "\n",
    "The hosted Prefect Cloud lets you avoid running your own Prefect server and has automations that allow you to get notifications when certain events occur or don’t occur.\n",
    "\n",
    "Create a free [Prefect Cloud](https://app.prefect.cloud/) account and connect your workspace to it following the steps in the UI when you sign up.\n",
    "\n",
    "Set up an Automation from the UI that will send yourself an email when a flow run completes. Run one of your existing deployments and check your email to see the notification.\n",
    "\n",
    "Make sure your active profile is pointing toward Prefect Cloud and make sure you have a worker active.\n",
    "\n",
    "What is the name of the second step in the Automation creation process?\n",
    "\n",
    "*Answer:* ```Actions```"
   ]
  }
 ],
 "metadata": {
  "kernelspec": {
   "display_name": "Python [conda env:mlops-zoomcamp]",
   "language": "python",
   "name": "conda-env-mlops-zoomcamp-py"
  },
  "language_info": {
   "codemirror_mode": {
    "name": "ipython",
    "version": 3
   },
   "file_extension": ".py",
   "mimetype": "text/x-python",
   "name": "python",
   "nbconvert_exporter": "python",
   "pygments_lexer": "ipython3",
   "version": "3.10.9"
  }
 },
 "nbformat": 4,
 "nbformat_minor": 5
}
