{
 "cells": [
  {
   "cell_type": "code",
   "execution_count": 6,
   "id": "2c51efaa",
   "metadata": {},
   "outputs": [
    {
     "name": "stdout",
     "output_type": "stream",
     "text": [
      "scikit-learn==1.2.2\r\n"
     ]
    }
   ],
   "source": [
    "!pip freeze | grep scikit-learn"
   ]
  },
  {
   "cell_type": "code",
   "execution_count": 14,
   "id": "0ef880a0",
   "metadata": {},
   "outputs": [],
   "source": [
    "import pickle\n",
    "import pandas as pd\n",
    "import numpy as np"
   ]
  },
  {
   "cell_type": "code",
   "execution_count": 8,
   "id": "7836ccfd",
   "metadata": {},
   "outputs": [],
   "source": [
    "with open('model.bin', 'rb') as f_in:\n",
    "    dv, model = pickle.load(f_in)"
   ]
  },
  {
   "cell_type": "code",
   "execution_count": 9,
   "id": "41c08294",
   "metadata": {},
   "outputs": [],
   "source": [
    "categorical = ['PULocationID', 'DOLocationID']\n",
    "\n",
    "def read_data(filename):\n",
    "    df = pd.read_parquet(filename)\n",
    "    \n",
    "    df['duration'] = df.tpep_dropoff_datetime - df.tpep_pickup_datetime\n",
    "    df['duration'] = df.duration.dt.total_seconds() / 60\n",
    "\n",
    "    df = df[(df.duration >= 1) & (df.duration <= 60)].copy()\n",
    "\n",
    "    df[categorical] = df[categorical].fillna(-1).astype('int').astype('str')\n",
    "    \n",
    "    return df"
   ]
  },
  {
   "cell_type": "code",
   "execution_count": 40,
   "id": "4854399a",
   "metadata": {},
   "outputs": [],
   "source": [
    "year  = 2022\n",
    "month = 2\n",
    "df = read_data(f'https://d37ci6vzurychx.cloudfront.net/trip-data/yellow_tripdata_{year:04d}-{month:02d}.parquet')"
   ]
  },
  {
   "cell_type": "code",
   "execution_count": 41,
   "id": "669fda0a",
   "metadata": {},
   "outputs": [],
   "source": [
    "dicts = df[categorical].to_dict(orient='records')\n",
    "X_val = dv.transform(dicts)\n",
    "y_pred = model.predict(X_val)"
   ]
  },
  {
   "cell_type": "code",
   "execution_count": 42,
   "id": "296e8312",
   "metadata": {},
   "outputs": [
    {
     "data": {
      "text/plain": [
       "5.28140357655334"
      ]
     },
     "execution_count": 42,
     "metadata": {},
     "output_type": "execute_result"
    }
   ],
   "source": [
    "# ------------------------------------------------------------ #\n",
    "# Q1: What's the standard deviation of the predicted duration? #\n",
    "# ------------------------------------------------------------ #\n",
    "np.std(y_pred)"
   ]
  },
  {
   "cell_type": "code",
   "execution_count": 43,
   "id": "c8b1676f",
   "metadata": {},
   "outputs": [],
   "source": [
    "# Let's create an artificial 'ride_id' column:\n",
    "df['ride_id'] = f'{year:04d}/{month:02d}_' + df.index.astype('str')"
   ]
  },
  {
   "cell_type": "code",
   "execution_count": 44,
   "id": "6ec22843",
   "metadata": {},
   "outputs": [],
   "source": [
    "# Next, write the 'ride_id' and the predictions to a dataframe with results.\n",
    "# (Save it as parquet):\n",
    "\n",
    "df_result = pd.DataFrame()\n",
    "df_result['ride_id'] = df['ride_id']\n",
    "df_result['prediction'] = y_pred\n",
    "\n",
    "output_file = f'./yellow_{year:04d}-{month:02d}.parquet'\n",
    "\n",
    "df_result.to_parquet(\n",
    "    output_file,\n",
    "    engine='pyarrow',\n",
    "    compression=None,\n",
    "    index=False\n",
    ")"
   ]
  },
  {
   "cell_type": "code",
   "execution_count": 30,
   "id": "49fbd860",
   "metadata": {},
   "outputs": [
    {
     "data": {
      "text/html": [
       "<div>\n",
       "<style scoped>\n",
       "    .dataframe tbody tr th:only-of-type {\n",
       "        vertical-align: middle;\n",
       "    }\n",
       "\n",
       "    .dataframe tbody tr th {\n",
       "        vertical-align: top;\n",
       "    }\n",
       "\n",
       "    .dataframe thead th {\n",
       "        text-align: right;\n",
       "    }\n",
       "</style>\n",
       "<table border=\"1\" class=\"dataframe\">\n",
       "  <thead>\n",
       "    <tr style=\"text-align: right;\">\n",
       "      <th></th>\n",
       "      <th>ride_id</th>\n",
       "      <th>prediction</th>\n",
       "    </tr>\n",
       "  </thead>\n",
       "  <tbody>\n",
       "    <tr>\n",
       "      <th>0</th>\n",
       "      <td>2022/02_0</td>\n",
       "      <td>18.527783</td>\n",
       "    </tr>\n",
       "    <tr>\n",
       "      <th>1</th>\n",
       "      <td>2022/02_1</td>\n",
       "      <td>23.065782</td>\n",
       "    </tr>\n",
       "    <tr>\n",
       "      <th>2</th>\n",
       "      <td>2022/02_2</td>\n",
       "      <td>33.686359</td>\n",
       "    </tr>\n",
       "    <tr>\n",
       "      <th>3</th>\n",
       "      <td>2022/02_3</td>\n",
       "      <td>23.757436</td>\n",
       "    </tr>\n",
       "    <tr>\n",
       "      <th>4</th>\n",
       "      <td>2022/02_4</td>\n",
       "      <td>21.492904</td>\n",
       "    </tr>\n",
       "    <tr>\n",
       "      <th>...</th>\n",
       "      <td>...</td>\n",
       "      <td>...</td>\n",
       "    </tr>\n",
       "    <tr>\n",
       "      <th>2979426</th>\n",
       "      <td>2022/02_2979426</td>\n",
       "      <td>12.038225</td>\n",
       "    </tr>\n",
       "    <tr>\n",
       "      <th>2979427</th>\n",
       "      <td>2022/02_2979427</td>\n",
       "      <td>11.441569</td>\n",
       "    </tr>\n",
       "    <tr>\n",
       "      <th>2979428</th>\n",
       "      <td>2022/02_2979428</td>\n",
       "      <td>11.890459</td>\n",
       "    </tr>\n",
       "    <tr>\n",
       "      <th>2979429</th>\n",
       "      <td>2022/02_2979429</td>\n",
       "      <td>15.102681</td>\n",
       "    </tr>\n",
       "    <tr>\n",
       "      <th>2979430</th>\n",
       "      <td>2022/02_2979430</td>\n",
       "      <td>9.460592</td>\n",
       "    </tr>\n",
       "  </tbody>\n",
       "</table>\n",
       "<p>2918187 rows × 2 columns</p>\n",
       "</div>"
      ],
      "text/plain": [
       "                 ride_id  prediction\n",
       "0              2022/02_0   18.527783\n",
       "1              2022/02_1   23.065782\n",
       "2              2022/02_2   33.686359\n",
       "3              2022/02_3   23.757436\n",
       "4              2022/02_4   21.492904\n",
       "...                  ...         ...\n",
       "2979426  2022/02_2979426   12.038225\n",
       "2979427  2022/02_2979427   11.441569\n",
       "2979428  2022/02_2979428   11.890459\n",
       "2979429  2022/02_2979429   15.102681\n",
       "2979430  2022/02_2979430    9.460592\n",
       "\n",
       "[2918187 rows x 2 columns]"
      ]
     },
     "execution_count": 30,
     "metadata": {},
     "output_type": "execute_result"
    }
   ],
   "source": [
    "df_result"
   ]
  },
  {
   "cell_type": "code",
   "execution_count": 31,
   "id": "7f1aaa83",
   "metadata": {},
   "outputs": [
    {
     "name": "stdout",
     "output_type": "stream",
     "text": [
      "total 61MB\r\n",
      "-rw-rw-r-- 1 javi javi  1MB jun 12 18:46 Dockerfile\r\n",
      "-rw-rw-r-- 1 javi javi  1MB jun 12 18:46 model.bin\r\n",
      "-rw-rw-r-- 1 javi javi  1MB jun 27 16:04 starter.ipynb\r\n",
      "-rw-rw-r-- 1 javi javi  1MB jun 27 15:35 Untitled.ipynb\r\n",
      "-rw-rw-r-- 1 javi javi 60MB jun 27 16:03 yellow_2022-02\r\n"
     ]
    }
   ],
   "source": [
    "# ------------------------------------------------------------ #\n",
    "# Q2: What's the size of the output file?                      #\n",
    "# ------------------------------------------------------------ #\n",
    "! ls -l --block-size=MB"
   ]
  },
  {
   "cell_type": "markdown",
   "id": "3f125c46",
   "metadata": {},
   "source": [
    "Now let's turn the notebook into a script."
   ]
  },
  {
   "cell_type": "code",
   "execution_count": 32,
   "id": "815ef9bf",
   "metadata": {},
   "outputs": [
    {
     "name": "stdout",
     "output_type": "stream",
     "text": [
      "[NbConvertApp] Converting notebook starter.ipynb to script\n",
      "[NbConvertApp] Writing 2265 bytes to starter.py\n"
     ]
    }
   ],
   "source": [
    "# ------------------------------------------------------------ #\n",
    "# Q3: Which command you need to execute for that?              #\n",
    "# ------------------------------------------------------------ #\n",
    "\n",
    "! jupyter nbconvert --to script starter.ipynb"
   ]
  },
  {
   "cell_type": "markdown",
   "id": "7b75549f",
   "metadata": {},
   "source": [
    "Now let's put everything into a virtual environment. We'll use ```pipenv``` for that. Install all the required libraries. Pay attention to the Scikit-Learn version: it should be ```scikit-learn==1.2.2```."
   ]
  },
  {
   "cell_type": "code",
   "execution_count": 39,
   "id": "86056981",
   "metadata": {},
   "outputs": [
    {
     "name": "stdout",
     "output_type": "stream",
     "text": [
      "\u001b[1mCreating a Pipfile for this project...\u001b[0m\n",
      "\u001b[32m\u001b[1mInstalling scikit-learn==1.2.2...\u001b[0m\n",
      "\u001b[?25lResolving scikit-\u001b[33mlearn\u001b[0m==\u001b[1;36m1.2\u001b[0m.\u001b[1;36m2\u001b[0m\u001b[33m...\u001b[0m\n",
      "\u001b[2K\u001b[1mAdding \u001b[0m\u001b[1;32mscikit-learn\u001b[0m to Pipfile's \u001b[1;33m[\u001b[0m\u001b[33mpackages\u001b[0m\u001b[1;33m]\u001b[0m \u001b[33m...\u001b[0m\n",
      "\u001b[2K✔ Installation Succeeded-learn...\n",
      "\u001b[2K\u001b[32m⠋\u001b[0m Installing scikit-learn...\n",
      "\u001b[1A\u001b[2K\u001b[32m\u001b[1mInstalling numpy...\u001b[0m\n",
      "\u001b[?25lResolving numpy\u001b[33m...\u001b[0m\n",
      "\u001b[2K\u001b[1mAdding \u001b[0m\u001b[1;32mnumpy\u001b[0m to Pipfile's \u001b[1;33m[\u001b[0m\u001b[33mpackages\u001b[0m\u001b[1;33m]\u001b[0m \u001b[33m...\u001b[0m\n",
      "\u001b[2K✔ Installation Succeeded..\n",
      "\u001b[2K\u001b[32m⠋\u001b[0m Installing numpy...\n",
      "\u001b[1A\u001b[2K\u001b[32m\u001b[1mInstalling pandas...\u001b[0m\n",
      "\u001b[?25lResolving pandas\u001b[33m...\u001b[0m\n",
      "\u001b[2K\u001b[1mAdding \u001b[0m\u001b[1;32mpandas\u001b[0m to Pipfile's \u001b[1;33m[\u001b[0m\u001b[33mpackages\u001b[0m\u001b[1;33m]\u001b[0m \u001b[33m...\u001b[0m\n",
      "\u001b[2K✔ Installation Succeeded...\n",
      "\u001b[2K\u001b[32m⠋\u001b[0m Installing pandas...\n",
      "\u001b[1A\u001b[2K\u001b[1mPipfile.lock not found, creating...\u001b[0m\n",
      "Locking\u001b[0m \u001b[33m[packages]\u001b[0m dependencies...\u001b[0m\n",
      "\u001b[?25lBuilding requirements\u001b[33m...\u001b[0m\n",
      "\u001b[2KResolving dependencies\u001b[33m...\u001b[0m\n",
      "\u001b[2K✔ Success! Locking...\n",
      "\u001b[2K\u001b[32m⠙\u001b[0m Locking...\n",
      "\u001b[1A\u001b[2KLocking\u001b[0m \u001b[33m[dev-packages]\u001b[0m dependencies...\u001b[0m\n",
      "\u001b[1mUpdated Pipfile.lock (aa53783ca11b3f3e37662ec3e5c57b31709461fd122f87521ef1e4c5c95fb255)!\u001b[0m\n",
      "\u001b[1mInstalling dependencies from Pipfile.lock (5fb255)...\u001b[0m\n",
      "To activate this project's virtualenv, run \u001b[33mpipenv shell\u001b[0m.\n",
      "Alternatively, run a command inside the virtualenv with \u001b[33mpipenv run\u001b[0m.\n"
     ]
    }
   ],
   "source": [
    "! pipenv install scikit-learn==1.2.2 numpy pandas --python=3.10.9"
   ]
  },
  {
   "cell_type": "code",
   "execution_count": null,
   "id": "84bf84b8",
   "metadata": {},
   "outputs": [],
   "source": [
    "# ------------------------------------------------------------ #\n",
    "# Q4: What's the first hash for the Scikit-Learn dependency    #\n",
    "#     in Pipfile.lock?\n",
    "# ------------------------------------------------------------ #\n",
    "\n",
    "first_hash = 'sha256:065e9673e24e0dc5113e2dd2b4ca30c9d8aa2fa90f4c0597241c93b63130d233'"
   ]
  },
  {
   "cell_type": "markdown",
   "id": "8eee1a78",
   "metadata": {},
   "source": [
    "Let's now make the script configurable via CLI. We'll create two parameters: year and month.\n",
    "\n",
    "Run the script for March 2022 (see ```starter.py```)."
   ]
  },
  {
   "cell_type": "code",
   "execution_count": null,
   "id": "f368512f",
   "metadata": {},
   "outputs": [],
   "source": [
    "# ------------------------------------------------------------ #\n",
    "# Q5: What's the mean predicted duration?                      #\n",
    "# ------------------------------------------------------------ #\n",
    "\n",
    "mean_pred_march = 12.758556818790902"
   ]
  },
  {
   "cell_type": "markdown",
   "id": "a6497f7b",
   "metadata": {},
   "source": [
    "Finally, we'll package the script in the docker container. For that, you'll need to use a base image that we prepared. \n",
    "\n",
    "We pushed it to ```svizor/zoomcamp-model:mlops-3.10.0-slim```, which you should use as your base image. \n",
    "\n",
    "After adjusting the ```Dockerfile```:\n",
    "\n",
    "```dockerfile\n",
    "FROM svizor/zoomcamp-model:mlops-3.10.0-slim\n",
    "\n",
    "RUN pip install -U pip\n",
    "\n",
    "RUN pip install pipenv\n",
    "RUN pip install pyarrow  # Needed to save .parquet files\n",
    "\n",
    "WORKDIR /app\n",
    "\n",
    "COPY [ \"Pipfile\", \"Pipfile.lock\", \"./\" ]\n",
    "    \n",
    "RUN pipenv install --system --deploy\n",
    "\n",
    "COPY [ \"starter.py\", \"./\" ]\n",
    "\n",
    "ENTRYPOINT [ \"python\", \"starter.py\", \"2022\", \"4\" ]\n",
    "```"
   ]
  },
  {
   "cell_type": "markdown",
   "id": "4d669aad",
   "metadata": {},
   "source": [
    "We then build the Docker Image with:\n",
    "\n",
    "```$ docker build -t ride-duration-prediction-homework-04 .```"
   ]
  },
  {
   "cell_type": "markdown",
   "id": "b612d1b1",
   "metadata": {},
   "source": [
    "And run the container with:\n",
    "\n",
    "```$ docker run -it --rm ride-duration-prediction-homework-04```"
   ]
  },
  {
   "cell_type": "code",
   "execution_count": null,
   "id": "cadd2e57",
   "metadata": {},
   "outputs": [],
   "source": [
    "# ------------------------------------------------------------ #\n",
    "# Q6: What's the mean predicted duration for April 2022?       #\n",
    "# ------------------------------------------------------------ #\n",
    "\n",
    "mean_pred_april = 12.827242870079969"
   ]
  }
 ],
 "metadata": {
  "kernelspec": {
   "display_name": "Python [conda env:mlops-zoomcamp]",
   "language": "python",
   "name": "conda-env-mlops-zoomcamp-py"
  },
  "language_info": {
   "codemirror_mode": {
    "name": "ipython",
    "version": 3
   },
   "file_extension": ".py",
   "mimetype": "text/x-python",
   "name": "python",
   "nbconvert_exporter": "python",
   "pygments_lexer": "ipython3",
   "version": "3.10.9"
  }
 },
 "nbformat": 4,
 "nbformat_minor": 5
}
