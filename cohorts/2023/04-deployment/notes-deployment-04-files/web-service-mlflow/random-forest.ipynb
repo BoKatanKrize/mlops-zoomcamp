{
 "cells": [
  {
   "cell_type": "code",
   "execution_count": null,
   "id": "e19f95ed",
   "metadata": {},
   "outputs": [],
   "source": [
    "import polars as pl\n",
    "\n",
    "from sklearn.feature_extraction import DictVectorizer\n",
    "from sklearn.ensemble import RandomForestRegressor\n",
    "from sklearn.metrics import mean_squared_error\n",
    "from sklearn.pipeline import make_pipeline\n",
    "\n",
    "import mlflow"
   ]
  },
  {
   "cell_type": "code",
   "execution_count": null,
   "id": "7a96bc59",
   "metadata": {},
   "outputs": [],
   "source": [
    "def read_dataframe(filename: str) -> pl.DataFrame:\n",
    "    df = pl.read_parquet(filename)\n",
    "    df = df.with_columns(\n",
    "                (pl.col('lpep_dropoff_datetime') -\n",
    "                 pl.col('lpep_pickup_datetime')).alias('duration'))\n",
    "    df = df.with_columns([\n",
    "           (pl.col('duration').dt.seconds() / 60)])\n",
    "    df = df.filter(\n",
    "            pl.any((pl.col('duration') >= 1) &\n",
    "                   (pl.col('duration') <= 60)))\n",
    "    categorical = ['PULocationID','DOLocationID']\n",
    "    df = df.with_columns(pl.col(categorical).cast(pl.Utf8))\n",
    "    return df"
   ]
  },
  {
   "cell_type": "code",
   "execution_count": null,
   "id": "94ea3309",
   "metadata": {},
   "outputs": [],
   "source": [
    "def prepare_dictionaries(df: pl.DataFrame) ->  dict[str,float|str]:\n",
    "    df= df.with_columns(pl.concat_str(\n",
    "                        ['PULocationID','DOLocationID'],\n",
    "                        separator=\"_\").alias('PU_DO'))\n",
    "    categorical = ['PU_DO']\n",
    "    numerical = ['trip_distance']\n",
    "    dicts = df.select(pl.col(categorical+numerical)).to_dicts()\n",
    "    return dicts"
   ]
  },
  {
   "cell_type": "code",
   "execution_count": null,
   "id": "708ac047",
   "metadata": {},
   "outputs": [],
   "source": [
    "mlflow.set_tracking_uri(\"http://127.0.0.1:5000\")\n",
    "mlflow.set_experiment(\"green-taxi-duration\")\n",
    "\n",
    "df_train = read_dataframe('./data/green_tripdata_2021-01.parquet')\n",
    "df_val = read_dataframe('./data/green_tripdata_2021-02.parquet')\n",
    "\n",
    "target = 'duration'\n",
    "y_train = df_train[target].to_numpy()\n",
    "y_val = df_val[target].to_numpy()\n",
    "\n",
    "dict_train = prepare_dictionaries(df_train)\n",
    "dict_val = prepare_dictionaries(df_val)\n",
    "\n",
    "with mlflow.start_run():\n",
    "    params = dict(max_depth=20,\n",
    "                  n_estimators=100, \n",
    "                  min_samples_leaf=10,\n",
    "                  random_state=0)\n",
    "    mlflow.log_params(params)\n",
    "\n",
    "    pipeline = make_pipeline(\n",
    "       DictVectorizer(),\n",
    "       RandomForestRegressor(**params, n_jobs=-1)\n",
    "    )\n",
    "\n",
    "    pipeline.fit(dict_train, y_train)\n",
    "    y_pred = pipeline.predict(dict_val)\n",
    "\n",
    "    rmse = mean_squared_error(y_pred, y_val, squared=False)\n",
    "    print(params, rmse)\n",
    "    mlflow.log_metric('rmse', rmse)\n",
    "\n",
    "    # The pipeline is logged as artifact (DictVectorizer + Random Forest)\n",
    "    # instead of separately\n",
    "    mlflow.sklearn.log_model(pipeline, artifact_path=\"model\")"
   ]
  }
 ],
 "metadata": {
  "kernelspec": {
   "display_name": "Python 3 (ipykernel)",
   "language": "python",
   "name": "python3"
  },
  "language_info": {
   "codemirror_mode": {
    "name": "ipython",
    "version": 3
   },
   "file_extension": ".py",
   "mimetype": "text/x-python",
   "name": "python",
   "nbconvert_exporter": "python",
   "pygments_lexer": "ipython3",
   "version": "3.10.9"
  }
 },
 "nbformat": 4,
 "nbformat_minor": 5
}
