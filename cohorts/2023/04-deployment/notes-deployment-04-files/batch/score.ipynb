{
 "cells": [
  {
   "cell_type": "code",
   "execution_count": 9,
   "id": "e19f95ed",
   "metadata": {},
   "outputs": [],
   "source": [
    "import polars as pl\n",
    "\n",
    "import mlflow\n",
    "\n",
    "from sklearn.feature_extraction import DictVectorizer\n",
    "from sklearn.ensemble import RandomForestRegressor\n",
    "from sklearn.metrics import mean_squared_error\n",
    "from sklearn.pipeline import make_pipeline\n",
    "\n",
    "import uuid\n"
   ]
  },
  {
   "cell_type": "code",
   "execution_count": 22,
   "id": "f0aa174c",
   "metadata": {},
   "outputs": [],
   "source": [
    "# We can parametrise our input and output files.\n",
    "# The output file stores the 'actual_duration' vs 'predicted_duration'\n",
    "year = 2021\n",
    "month = 2\n",
    "taxi_type = 'green'\n",
    "\n",
    "input_file  = f'./data/{taxi_type}_tripdata_{year:04d}-{month:02d}.parquet'\n",
    "output_file = f'./output/{taxi_type}_{year:04d}-{month:02d}.parquet'\n",
    "\n",
    "RUN_ID = '068bda10a3ed4b73a771df771161f60a' "
   ]
  },
  {
   "cell_type": "code",
   "execution_count": 23,
   "id": "be0f5c4b",
   "metadata": {},
   "outputs": [],
   "source": [
    "# Create unique IDs for the DataFrame rows\n",
    "def generate_uuids(n):\n",
    "    ride_ids = []\n",
    "    for i in range(n):\n",
    "        ride_ids.append(str(uuid.uuid4()))\n",
    "    return ride_ids"
   ]
  },
  {
   "cell_type": "code",
   "execution_count": 24,
   "id": "7a96bc59",
   "metadata": {},
   "outputs": [],
   "source": [
    "def read_dataframe(filename: str) -> pl.DataFrame:\n",
    "    df = pl.read_parquet(filename)\n",
    "    df = df.with_columns(\n",
    "                (pl.col('lpep_dropoff_datetime') -\n",
    "                 pl.col('lpep_pickup_datetime')).alias('duration'))\n",
    "    df = df.with_columns([\n",
    "           (pl.col('duration').dt.seconds() / 60)])\n",
    "    df = df.filter(\n",
    "            pl.any((pl.col('duration') >= 1) &\n",
    "                   (pl.col('duration') <= 60)))\n",
    "    categorical = ['PULocationID','DOLocationID']\n",
    "    df = df.with_columns(pl.col(categorical).cast(pl.Utf8))\n",
    "    # Add unique IDs as new column\n",
    "    series_uuids = pl.Series(name=\"ride_id\", \n",
    "                             values=generate_uuids(len(df)))\n",
    "    df = df.with_columns(series_uuids)\n",
    "    return df"
   ]
  },
  {
   "cell_type": "code",
   "execution_count": 25,
   "id": "94ea3309",
   "metadata": {},
   "outputs": [],
   "source": [
    "def prepare_dictionaries(df: pl.DataFrame) ->  dict[str,float|str]:\n",
    "    df= df.with_columns(pl.concat_str(\n",
    "                        ['PULocationID','DOLocationID'],\n",
    "                        separator=\"_\").alias('PU_DO'))\n",
    "    categorical = ['PU_DO']\n",
    "    numerical = ['trip_distance']\n",
    "    dicts = df.select(pl.col(categorical+numerical)).to_dicts()\n",
    "    return dicts"
   ]
  },
  {
   "cell_type": "code",
   "execution_count": 26,
   "id": "1c37a4a0",
   "metadata": {},
   "outputs": [],
   "source": [
    "# Load the model obtained in 4.3\n",
    "def load_model(run_id):\n",
    "    logged_model = f'runs:/{run_id}/model'            \n",
    "    model = mlflow.pyfunc.load_model(logged_model)\n",
    "    return model"
   ]
  },
  {
   "cell_type": "code",
   "execution_count": 27,
   "id": "243c3526",
   "metadata": {},
   "outputs": [],
   "source": [
    "def apply_model(input_file, run_id, output_file):\n",
    "    \n",
    "    mlflow.set_tracking_uri(\"http://127.0.0.1:5000\") \n",
    "    \n",
    "    df = read_dataframe(input_file)\n",
    "    dicts = prepare_dictionaries(df)\n",
    "\n",
    "    \n",
    "    model = load_model(run_id)\n",
    "    y_pred = model.predict(dicts)\n",
    "\n",
    "    df_result = pl.DataFrame()\n",
    "    df_result = df_result.with_columns(df['ride_id'])\n",
    "    df_result = df_result.with_columns(df['lpep_pickup_datetime'])\n",
    "    df_result = df_result.with_columns(df['PULocationID'])\n",
    "    df_result = df_result.with_columns(df['DOLocationID'])\n",
    "    # Column for the duration given in input file \n",
    "    df_result = df_result.with_columns(df['duration'].alias('actual_duration'))\n",
    "    # Column for predicted duration\n",
    "    y_pred = pl.Series(name='predicted_duration', values=y_pred)\n",
    "    df_result = df_result.with_columns(y_pred)\n",
    "    # Column with difference between actual and prediction\n",
    "    df_result = df_result.with_columns(\n",
    "                (pl.col('actual_duration') -\n",
    "                 pl.col('predicted_duration')).alias('diff'))\n",
    "    # Same model for every row\n",
    "    df_result = df_result.with_columns(\n",
    "        pl.lit(run_id, dtype=pl.Utf8).alias(\"model_version\")\n",
    "    )\n",
    "    # Write output to parquet file\n",
    "    df_result.write_parquet(output_file)"
   ]
  },
  {
   "cell_type": "code",
   "execution_count": 28,
   "id": "76d25ec2",
   "metadata": {},
   "outputs": [
    {
     "name": "stderr",
     "output_type": "stream",
     "text": [
      "2023/06/24 21:06:02 WARNING mlflow.pyfunc: Detected one or more mismatches between the model's dependencies and the current Python environment:\n",
      " - mlflow (current: 2.3.2, required: mlflow==2.3)\n",
      "To fix the mismatches, call `mlflow.pyfunc.get_model_dependencies(model_uri)` to fetch the model's environment and install dependencies using the resulting environment file.\n"
     ]
    }
   ],
   "source": [
    "apply_model(input_file=input_file, \n",
    "            run_id=RUN_ID,\n",
    "            output_file=output_file)"
   ]
  },
  {
   "cell_type": "code",
   "execution_count": null,
   "id": "1cf8bfd5",
   "metadata": {},
   "outputs": [],
   "source": []
  }
 ],
 "metadata": {
  "kernelspec": {
   "display_name": "Python [conda env:mlops-zoomcamp]",
   "language": "python",
   "name": "conda-env-mlops-zoomcamp-py"
  },
  "language_info": {
   "codemirror_mode": {
    "name": "ipython",
    "version": 3
   },
   "file_extension": ".py",
   "mimetype": "text/x-python",
   "name": "python",
   "nbconvert_exporter": "python",
   "pygments_lexer": "ipython3",
   "version": "3.10.9"
  }
 },
 "nbformat": 4,
 "nbformat_minor": 5
}
